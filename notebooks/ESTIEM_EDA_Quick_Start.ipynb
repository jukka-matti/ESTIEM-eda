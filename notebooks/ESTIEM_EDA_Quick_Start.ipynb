{
 "cells": [
  {
   "cell_type": "markdown",
   "source": "## 👨‍💻 Creator\n\n**Created by [Jukka-Matti Turtiainen](https://www.rdmaic.com)**\n- Lean Six Sigma Expert & Trainer\n- Website: [rdmaic.com](https://www.rdmaic.com)",
   "metadata": {}
  },
  {
   "cell_type": "markdown",
   "metadata": {
    "id": "estiem_eda_header"
   },
   "source": [
    "# 📊 ESTIEM EDA Toolkit - Google Colab Quick Start\n",
    "\n",
    "**Exploratory Data Analysis - Professional Statistical Tools**\n",
    "\n",
    "[![Open In Colab](https://colab.research.google.com/assets/colab-badge.svg)](https://colab.research.google.com/github/jukka-matti/ESTIEM-eda/blob/main/notebooks/ESTIEM_EDA_Quick_Start.ipynb)\n",
    "\n",
    "---\n",
    "\n",
    "## ⚡ Installation & Setup\n",
    "\n",
    "Run this cell first to install the ESTIEM EDA toolkit:"
   ]
  },
  {
   "cell_type": "code",
   "execution_count": null,
   "metadata": {
    "id": "install_estiem_eda"
   },
   "outputs": [],
   "source": "# Install ESTIEM EDA Toolkit\n!pip install git+https://github.com/jukka-matti/ESTIEM-eda.git -q\n\n# Import required libraries\nimport pandas as pd\nimport numpy as np\nfrom estiem_eda.tools.process_analysis import ProcessAnalysisTool\nfrom estiem_eda.tools.anova import ANOVATool\nfrom estiem_eda.tools.pareto import ParetoTool\n\nprint(\"✅ ESTIEM EDA Toolkit installed successfully!\")\nprint(\"📊 Available tools: Process Analysis, ANOVA, Pareto Analysis\")\nprint(\"🔬 Process Analysis combines: I-Chart + Capability + Distribution Assessment\")"
  },
  {
   "cell_type": "markdown",
   "metadata": {
    "id": "sample_data_section"
   },
   "source": [
    "## 📁 Sample Data Generation\n",
    "\n",
    "Generate sample datasets for immediate testing:"
   ]
  },
  {
   "cell_type": "code",
   "execution_count": null,
   "metadata": {
    "id": "generate_sample_data"
   },
   "outputs": [],
   "source": [
    "# Generate manufacturing process data\n",
    "np.random.seed(42)\n",
    "\n",
    "# Process measurements\n",
    "n_samples = 100\n",
    "measurements = np.random.normal(10.0, 0.3, n_samples)\n",
    "lines = np.random.choice(['Line_A', 'Line_B', 'Line_C'], n_samples)\n",
    "\n",
    "# Quality defects data\n",
    "defect_types = ['Surface', 'Dimensional', 'Assembly', 'Material', 'Electrical']\n",
    "defect_counts = [45, 32, 18, 12, 8]  # Pareto-distributed\n",
    "\n",
    "# Create sample DataFrames\n",
    "process_data = pd.DataFrame({\n",
    "    'measurement': measurements,\n",
    "    'line': lines,\n",
    "    'sample_id': range(1, n_samples + 1)\n",
    "})\n",
    "\n",
    "quality_data = pd.DataFrame({\n",
    "    'defect_type': defect_types,\n",
    "    'count': defect_counts\n",
    "})\n",
    "\n",
    "print(\"📊 Sample data generated:\")\n",
    "print(f\"   Process data: {len(process_data)} measurements\")\n",
    "print(f\"   Quality data: {len(quality_data)} defect categories\")\n",
    "print(\"\\n🔍 Process data preview:\")\n",
    "display(process_data.head())\n",
    "print(\"\\n🔍 Quality data preview:\")\n",
    "display(quality_data)"
   ]
  },
  {
   "cell_type": "markdown",
   "metadata": {
    "id": "tools_section"
   },
   "source": "## 🛠️ Professional Six Sigma Analysis Tools\n\n### 1. Process Analysis (Comprehensive Assessment)"
  },
  {
   "cell_type": "code",
   "execution_count": null,
   "metadata": {
    "id": "i_chart_analysis"
   },
   "outputs": [],
   "source": "# Process Analysis - Comprehensive Assessment\nprocess_tool = ProcessAnalysisTool()\n\nresults = process_tool.execute({\n    'data': measurements.tolist(),\n    'specification_limits': {\n        'lsl': 9.4,\n        'usl': 10.6,\n        'target': 10.0\n    },\n    'distribution': 'normal',\n    'title': 'Manufacturing Process Analysis'\n})\n\nif results['success']:\n    # Process Summary\n    summary = results['process_summary']\n    print(\"📈 Process Analysis Results:\")\n    print(f\"   Sample Size: {summary['sample_size']}\")\n    range_info = summary['measurement_range']\n    print(f\"   Process Mean: {range_info['mean']:.4f}\")\n    print(f\"   Process Std Dev: {range_info['std_dev']:.4f}\")\n    \n    # Stability Assessment\n    stability = results['stability_analysis']\n    print(f\"\\n🔒 Stability Assessment:\")\n    print(f\"   Control Status: {stability['control_status'].replace('_', ' ').title()}\")\n    if 'statistics' in stability:\n        stats = stability['statistics']\n        print(f\"   UCL: {stats.get('ucl', 0):.4f}\")\n        print(f\"   LCL: {stats.get('lcl', 0):.4f}\")\n    \n    # Capability Assessment\n    capability = results['capability_analysis']\n    if 'capability_indices' in capability:\n        indices = capability['capability_indices']\n        print(f\"\\n🎯 Capability Assessment:\")\n        print(f\"   Cp:  {indices['cp']:.4f}\")\n        print(f\"   Cpk: {indices['cpk']:.4f}\")\n        \n        defects = capability['defect_analysis']\n        print(f\"   Expected PPM: {defects['ppm_total']:.0f}\")\n        print(f\"   Sigma Level: {defects['sigma_level']:.1f}\")\n    \n    # Distribution Assessment\n    distribution = results['distribution_analysis']\n    if 'goodness_of_fit' in distribution:\n        gof = distribution['goodness_of_fit']\n        print(f\"\\n📊 Distribution Assessment:\")\n        print(f\"   Distribution: {distribution['distribution'].title()}\")\n        print(f\"   Correlation: {gof['correlation_coefficient']:.4f}\")\n        print(f\"   Fit Quality: {gof['interpretation']}\")\n    \n    # Overall Assessment\n    if 'overall_assessment' in results:\n        assessment = results['overall_assessment']\n        print(f\"\\n🏆 Overall Assessment: {assessment['overall_status'].replace('_', ' ').title()}\")\n        if assessment['recommendations']:\n            print(\"   Recommendations:\")\n            for rec in assessment['recommendations']:\n                print(f\"   • {rec}\")\n    \n    print(f\"\\n🎯 {results['interpretation']}\")\n    \n    # Display chart if available\n    if 'visualization' in results:\n        from IPython.display import HTML\n        display(HTML(results['visualization']))\nelse:\n    print(f\"❌ Analysis failed: {results.get('error')}\")"
  },
  {
   "cell_type": "markdown",
   "metadata": {
    "id": "capability_section"
   },
   "source": "### 2. ANOVA Analysis (Group Comparison)"
  },
  {
   "cell_type": "code",
   "execution_count": null,
   "metadata": {
    "id": "capability_analysis"
   },
   "outputs": [],
   "source": [
    "# Process Capability Analysis\n",
    "capability_tool = CapabilityTool()\n",
    "\n",
    "results = capability_tool.execute({\n",
    "    'data': measurements.tolist(),\n",
    "    'lsl': 9.4,  # Lower Specification Limit\n",
    "    'usl': 10.6, # Upper Specification Limit\n",
    "    'target': 10.0\n",
    "})\n",
    "\n",
    "if results['success']:\n",
    "    indices = results['capability_indices']\n",
    "    defects = results['defect_analysis']\n",
    "    \n",
    "    print(\"🎯 Process Capability Results:\")\n",
    "    print(f\"   Cp:  {indices['cp']:.4f}\")\n",
    "    print(f\"   Cpk: {indices['cpk']:.4f}\")\n",
    "    print(f\"   Pp:  {indices['pp']:.4f}\")\n",
    "    print(f\"   Ppk: {indices['ppk']:.4f}\")\n",
    "    print(f\"\\n📊 Defect Analysis:\")\n",
    "    print(f\"   Expected PPM: {defects['ppm_total']:.0f}\")\n",
    "    print(f\"   Sigma Level: {defects['sigma_level']:.1f}\")\n",
    "    print(f\"\\n🎯 {results['interpretation']}\")\n",
    "    \n",
    "    # Display chart if available\n",
    "    if 'visualization' in results:\n",
    "        display(HTML(results['visualization']))\nelse:\n",
    "    print(f\"❌ Analysis failed: {results.get('error')}\")"
   ]
  },
  {
   "cell_type": "markdown",
   "metadata": {
    "id": "anova_section"
   },
   "source": "### 3. Pareto Analysis (Priority Identification)"
  },
  {
   "cell_type": "code",
   "execution_count": null,
   "metadata": {
    "id": "anova_analysis"
   },
   "outputs": [],
   "source": [
    "# ANOVA Analysis - Compare production lines\n",
    "anova_tool = ANOVATool()\n",
    "\n",
    "# Prepare groups data\n",
    "groups = {}\n",
    "for line in process_data['line'].unique():\n",
    "    groups[line] = process_data[process_data['line'] == line]['measurement'].tolist()\n",
    "\n",
    "results = anova_tool.execute({'groups': groups})\n",
    "\n",
    "if results['success']:\n",
    "    anova_stats = results['anova_results']\n",
    "    \n",
    "    print(\"📊 ANOVA Results:\")\n",
    "    print(f\"   F-statistic: {anova_stats['f_statistic']:.4f}\")\n",
    "    print(f\"   p-value: {anova_stats['p_value']:.6f}\")\n",
    "    print(f\"   Significant: {'Yes' if anova_stats['significant'] else 'No'}\")\n",
    "    \n",
    "    if 'post_hoc' in results:\n",
    "        print(f\"\\n📈 Post-hoc Comparisons:\")\n",
    "        for comparison in results['post_hoc']['comparisons']:\n",
    "            print(f\"   {comparison['groups']}: p={comparison['p_value']:.4f} {'*' if comparison['significant'] else ''}\")\n",
    "    \n",
    "    print(f\"\\n🎯 {results['interpretation']}\")\n",
    "    \n",
    "    # Display chart if available\n",
    "    if 'visualization' in results:\n",
    "        display(HTML(results['visualization']))\nelse:\n",
    "    print(f\"❌ Analysis failed: {results.get('error')}\")"
   ]
  },
  {
   "cell_type": "markdown",
   "metadata": {
    "id": "pareto_section"
   },
   "source": "### Note: Individual Tools (Legacy)\n\nThe following sections show individual tool usage. For streamlined analysis, use the Process Analysis tool above which combines I-Chart, Capability, and Probability Plot into a single comprehensive workflow.\n\n#### Legacy: Individual Control Chart (I-Chart)\n*This functionality is now included in Process Analysis above*"
  },
  {
   "cell_type": "code",
   "execution_count": null,
   "metadata": {
    "id": "pareto_analysis"
   },
   "outputs": [],
   "source": [
    "# Pareto Analysis - Quality defects\n",
    "pareto_tool = ParetoTool()\n",
    "\n",
    "# Convert quality data to dictionary\n",
    "defect_dict = dict(zip(quality_data['defect_type'], quality_data['count']))\n",
    "\n",
    "results = pareto_tool.execute({'data': defect_dict})\n",
    "\n",
    "if results['success']:\n",
    "    vital_few = results['vital_few']\n",
    "    \n",
    "    print(\"📉 Pareto Analysis Results:\")\n",
    "    print(f\"   Total Categories: {len(defect_dict)}\")\n",
    "    print(f\"   Vital Few: {len(vital_few['categories'])} categories\")\n",
    "    print(f\"   Impact: {vital_few['percentage']:.1f}% of total defects\")\n",
    "    print(f\"   Top Categories: {', '.join(vital_few['categories'])}\")\n",
    "    \n",
    "    gini = results['gini_coefficient']\n",
    "    print(f\"   Gini Coefficient: {gini['value']:.3f} ({gini['interpretation']})\")\n",
    "    \n",
    "    print(f\"\\n🎯 {results['interpretation']}\")\n",
    "    \n",
    "    # Display chart if available\n",
    "    if 'visualization' in results:\n",
    "        display(HTML(results['visualization']))\nelse:\n",
    "    print(f\"❌ Analysis failed: {results.get('error')}\")"
   ]
  },
  {
   "cell_type": "markdown",
   "metadata": {
    "id": "probability_section"
   },
   "source": "### Legacy: Process Capability Analysis\n*This functionality is now included in Process Analysis above*"
  },
  {
   "cell_type": "code",
   "execution_count": null,
   "metadata": {
    "id": "probability_analysis"
   },
   "outputs": [],
   "source": [
    "# Probability Plot - Assess normality\n",
    "probability_tool = ProbabilityPlotTool()\n",
    "\n",
    "results = probability_tool.execute({\n",
    "    'data': measurements.tolist(),\n",
    "    'distribution': 'normal'\n",
    "})\n",
    "\n",
    "if results['success']:\n",
    "    gof = results['goodness_of_fit']\n",
    "    outliers = results['outliers']\n",
    "    \n",
    "    print(\"📋 Probability Plot Results:\")\n",
    "    print(f\"   Distribution: Normal\")\n",
    "    print(f\"   Correlation: {gof['correlation_coefficient']:.4f}\")\n",
    "    print(f\"   Fit Quality: {gof['interpretation']}\")\n",
    "    print(f\"   Outliers Detected: {outliers['count']}\")\n",
    "    \n",
    "    if 'normality_test' in results:\n",
    "        norm_test = results['normality_test']\n",
    "        print(f\"   Anderson-Darling: {norm_test['statistic']:.4f} (p={norm_test['p_value']:.4f})\")\n",
    "    \n",
    "    print(f\"\\n🎯 {results['interpretation']}\")\n",
    "    \n",
    "    # Display chart if available\n",
    "    if 'visualization' in results:\n",
    "        display(HTML(results['visualization']))\nelse:\n",
    "    print(f\"❌ Analysis failed: {results.get('error')}\")"
   ]
  },
  {
   "cell_type": "markdown",
   "metadata": {
    "id": "upload_section"
   },
   "source": "### Legacy: Probability Plot\n*This functionality is now included in Process Analysis above*"
  },
  {
   "cell_type": "code",
   "execution_count": null,
   "metadata": {
    "id": "file_upload"
   },
   "outputs": [],
   "source": [
    "# File upload widget\n",
    "from google.colab import files\n",
    "import io\n",
    "\n",
    "print(\"📁 Upload your CSV file:\")\n",
    "uploaded = files.upload()\n",
    "\n",
    "# Process uploaded files\n",
    "for filename in uploaded.keys():\n",
    "    print(f\"\\n✅ Processing file: {filename}\")\n",
    "    \n",
    "    # Read CSV\n",
    "    df = pd.read_csv(io.BytesIO(uploaded[filename]))\n",
    "    \n",
    "    print(f\"📊 Data shape: {df.shape[0]} rows × {df.shape[1]} columns\")\n",
    "    print(f\"📋 Columns: {', '.join(df.columns.tolist())}\")\n",
    "    \n",
    "    # Show preview\n",
    "    print(\"\\n🔍 Data preview:\")\n",
    "    display(df.head())\n",
    "    \n",
    "    # Show summary statistics\n",
    "    numeric_cols = df.select_dtypes(include=[np.number]).columns\n",
    "    if len(numeric_cols) > 0:\n",
    "        print(\"\\n📈 Numeric columns summary:\")\n",
    "        display(df[numeric_cols].describe())\n",
    "    \n",
    "    # Store for analysis\n",
    "    globals()[f'uploaded_data'] = df\n",
    "    print(f\"\\n💾 Data stored as 'uploaded_data' - ready for analysis!\")"
   ]
  },
  {
   "cell_type": "markdown",
   "metadata": {
    "id": "custom_analysis"
   },
   "source": "## 🔧 Analyze Your Data\n\nModify the cells below to analyze your uploaded data with the 3 core tools:"
  },
  {
   "cell_type": "code",
   "execution_count": null,
   "metadata": {
    "id": "custom_analysis_code"
   },
   "outputs": [],
   "source": "# Example: Analyze your uploaded data with 3 core tools\n# Modify these parameters for your data:\n\n# For Process Analysis:\n# column_name = 'your_measurement_column'\n# data_values = uploaded_data[column_name].dropna().tolist()\n# your_lsl = 9.0  # Your lower spec limit\n# your_usl = 11.0 # Your upper spec limit\n\n# For ANOVA:\n# value_column = 'measurement'\n# group_column = 'group'\n\n# For Pareto:\n# category_column = 'defect_type'\n# value_column = 'count'  # or leave None to count occurrences\n\nprint(\"💡 Uncomment and modify the code above to analyze your data\")\nprint(\"📋 Available data: 'uploaded_data'\")\nif 'uploaded_data' in globals():\n    print(f\"📊 Columns: {uploaded_data.columns.tolist()}\")\n    print(f\"📊 3 Core Tools: Process Analysis, ANOVA, Pareto Analysis\")"
  },
  {
   "cell_type": "markdown",
   "metadata": {
    "id": "resources_section"
   },
   "source": "---\n\n**📊 Built by ESTIEM for 60,000+ Industrial Engineering students**\n\n*Professional Six Sigma toolkit with 3 core tools • Free forever for educational use • Apache 2.0 License*"
  }
 ],
 "metadata": {
  "colab": {
   "provenance": [],
   "toc_visible": true
  },
  "kernelspec": {
   "display_name": "Python 3",
   "name": "python3"
  },
  "language_info": {
   "name": "python"
  }
 },
 "nbformat": 4,
 "nbformat_minor": 0
}